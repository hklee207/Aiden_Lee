{
  "metadata": {
    "kernelspec": {
      "language": "python",
      "display_name": "Python 3",
      "name": "python3"
    },
    "language_info": {
      "name": "python",
      "version": "3.10.12",
      "mimetype": "text/x-python",
      "codemirror_mode": {
        "name": "ipython",
        "version": 3
      },
      "pygments_lexer": "ipython3",
      "nbconvert_exporter": "python",
      "file_extension": ".py"
    },
    "kaggle": {
      "accelerator": "none",
      "dataSources": [
        {
          "sourceId": 18513,
          "sourceType": "datasetVersion",
          "datasetId": 13720
        }
      ],
      "dockerImageVersionId": 30822,
      "isInternetEnabled": false,
      "language": "python",
      "sourceType": "notebook",
      "isGpuEnabled": false
    },
    "colab": {
      "provenance": [],
      "include_colab_link": true
    }
  },
  "nbformat_minor": 0,
  "nbformat": 4,
  "cells": [
    {
      "cell_type": "markdown",
      "metadata": {
        "id": "view-in-github",
        "colab_type": "text"
      },
      "source": [
        "<a href=\"https://colab.research.google.com/github/hklee207/Aiden_Lee/blob/main/insurance.ipynb\" target=\"_parent\"><img src=\"https://colab.research.google.com/assets/colab-badge.svg\" alt=\"Open In Colab\"/></a>"
      ]
    },
    {
      "source": [
        "# IMPORTANT: RUN THIS CELL IN ORDER TO IMPORT YOUR KAGGLE DATA SOURCES,\n",
        "# THEN FEEL FREE TO DELETE THIS CELL.\n",
        "# NOTE: THIS NOTEBOOK ENVIRONMENT DIFFERS FROM KAGGLE'S PYTHON\n",
        "# ENVIRONMENT SO THERE MAY BE MISSING LIBRARIES USED BY YOUR\n",
        "# NOTEBOOK.\n",
        "import kagglehub\n",
        "mirichoi0218_insurance_path = kagglehub.dataset_download('mirichoi0218/insurance')\n",
        "\n",
        "print('Data source import complete.')\n"
      ],
      "metadata": {
        "id": "wF4ASj94yiYB"
      },
      "cell_type": "code",
      "outputs": [],
      "execution_count": null
    },
    {
      "cell_type": "code",
      "source": [
        "# This Python 3 environment comes with many helpful analytics libraries installed\n",
        "# It is defined by the kaggle/python Docker image: https://github.com/kaggle/docker-python\n",
        "# For example, here's several helpful packages to load\n",
        "\n",
        "import numpy as np # linear algebra\n",
        "import pandas as pd # data processing, CSV file I/O (e.g. pd.read_csv)\n",
        "\n",
        "# Input data files are available in the read-only \"../input/\" directory\n",
        "# For example, running this (by clicking run or pressing Shift+Enter) will list all files under the input directory\n",
        "\n",
        "import os\n",
        "for dirname, _, filenames in os.walk('/kaggle/input'):\n",
        "    for filename in filenames:\n",
        "        print(os.path.join(dirname, filename))\n",
        "\n",
        "# You can write up to 20GB to the current directory (/kaggle/working/) that gets preserved as output when you create a version using \"Save & Run All\"\n",
        "# You can also write temporary files to /kaggle/temp/, but they won't be saved outside of the current session"
      ],
      "metadata": {
        "_uuid": "8f2839f25d086af736a60e9eeb907d3b93b6e0e5",
        "_cell_guid": "b1076dfc-b9ad-4769-8c92-a6c4dae69d19",
        "trusted": true,
        "execution": {
          "iopub.status.busy": "2025-01-04T13:18:48.020294Z",
          "iopub.execute_input": "2025-01-04T13:18:48.020704Z",
          "iopub.status.idle": "2025-01-04T13:18:48.425738Z",
          "shell.execute_reply.started": "2025-01-04T13:18:48.020663Z",
          "shell.execute_reply": "2025-01-04T13:18:48.424587Z"
        },
        "id": "i-kmHhuEyiYF"
      },
      "outputs": [],
      "execution_count": null
    },
    {
      "cell_type": "code",
      "source": [
        "insurance = pd.read_csv('/kaggle/input/insurance/insurance.csv')\n",
        "insurance"
      ],
      "metadata": {
        "trusted": true,
        "execution": {
          "iopub.status.busy": "2025-01-04T13:18:50.715312Z",
          "iopub.execute_input": "2025-01-04T13:18:50.715908Z",
          "iopub.status.idle": "2025-01-04T13:18:50.757002Z",
          "shell.execute_reply.started": "2025-01-04T13:18:50.715871Z",
          "shell.execute_reply": "2025-01-04T13:18:50.755633Z"
        },
        "id": "CDaaRjWxyiYG"
      },
      "outputs": [],
      "execution_count": null
    },
    {
      "cell_type": "code",
      "source": [
        "insurance.head()"
      ],
      "metadata": {
        "trusted": true,
        "execution": {
          "iopub.status.busy": "2025-01-04T13:18:54.192593Z",
          "iopub.execute_input": "2025-01-04T13:18:54.192931Z",
          "iopub.status.idle": "2025-01-04T13:18:54.205377Z",
          "shell.execute_reply.started": "2025-01-04T13:18:54.192905Z",
          "shell.execute_reply": "2025-01-04T13:18:54.20384Z"
        },
        "id": "hlDbPdfhyiYG"
      },
      "outputs": [],
      "execution_count": null
    },
    {
      "cell_type": "code",
      "source": [
        "insurance.info()"
      ],
      "metadata": {
        "trusted": true,
        "execution": {
          "iopub.status.busy": "2025-01-04T13:21:01.81181Z",
          "iopub.execute_input": "2025-01-04T13:21:01.812194Z",
          "iopub.status.idle": "2025-01-04T13:21:01.838336Z",
          "shell.execute_reply.started": "2025-01-04T13:21:01.812165Z",
          "shell.execute_reply": "2025-01-04T13:21:01.837389Z"
        },
        "id": "fKWP9d5dyiYG"
      },
      "outputs": [],
      "execution_count": null
    },
    {
      "cell_type": "code",
      "source": [
        "insurance[\"region\"].value_counts()"
      ],
      "metadata": {
        "trusted": true,
        "execution": {
          "iopub.status.busy": "2025-01-04T13:22:54.726637Z",
          "iopub.execute_input": "2025-01-04T13:22:54.727112Z",
          "iopub.status.idle": "2025-01-04T13:22:54.737701Z",
          "shell.execute_reply.started": "2025-01-04T13:22:54.727074Z",
          "shell.execute_reply": "2025-01-04T13:22:54.735952Z"
        },
        "id": "3HB3y95AyiYH"
      },
      "outputs": [],
      "execution_count": null
    },
    {
      "cell_type": "code",
      "source": [
        "insurance.describe()"
      ],
      "metadata": {
        "trusted": true,
        "execution": {
          "iopub.status.busy": "2025-01-04T13:23:29.740365Z",
          "iopub.execute_input": "2025-01-04T13:23:29.740744Z",
          "iopub.status.idle": "2025-01-04T13:23:29.767553Z",
          "shell.execute_reply.started": "2025-01-04T13:23:29.740715Z",
          "shell.execute_reply": "2025-01-04T13:23:29.765314Z"
        },
        "id": "paguGdgFyiYH"
      },
      "outputs": [],
      "execution_count": null
    },
    {
      "cell_type": "code",
      "source": [
        "import matplotlib.pyplot as plt\n",
        "\n",
        "insurance.hist(bins=50 , figsize=(12,8))\n",
        "plt.show()"
      ],
      "metadata": {
        "trusted": true,
        "execution": {
          "iopub.status.busy": "2025-01-04T13:31:10.166942Z",
          "iopub.execute_input": "2025-01-04T13:31:10.167267Z",
          "iopub.status.idle": "2025-01-04T13:31:11.217282Z",
          "shell.execute_reply.started": "2025-01-04T13:31:10.167242Z",
          "shell.execute_reply": "2025-01-04T13:31:11.216112Z"
        },
        "id": "wldIphukyiYI"
      },
      "outputs": [],
      "execution_count": null
    },
    {
      "cell_type": "code",
      "source": [
        "import numpy as np\n",
        "\n",
        "def shuffle_and_split_data(data, test_ratio):\n",
        "    shuffled_indices = np.random.permutation(len(data))\n",
        "    test_set_size = int(len(data) * test_ratio)\n",
        "    test_indices = shuffled_indices[:test_set_size]\n",
        "    train_indices = shuffled_indices[test_set_size:]\n",
        "    return data.iloc[train_indices], data.iloc[test_indices]"
      ],
      "metadata": {
        "trusted": true,
        "execution": {
          "iopub.status.busy": "2025-01-04T13:38:31.090791Z",
          "iopub.execute_input": "2025-01-04T13:38:31.091143Z",
          "iopub.status.idle": "2025-01-04T13:38:31.096929Z",
          "shell.execute_reply.started": "2025-01-04T13:38:31.091117Z",
          "shell.execute_reply": "2025-01-04T13:38:31.095728Z"
        },
        "id": "w9bwK4z-yiYI"
      },
      "outputs": [],
      "execution_count": null
    },
    {
      "cell_type": "code",
      "source": [
        "train_set, test_set = shuffle_and_split_data(insurance, 0.2)\n",
        "len(train_set)"
      ],
      "metadata": {
        "trusted": true,
        "execution": {
          "iopub.status.busy": "2025-01-04T13:39:00.135906Z",
          "iopub.execute_input": "2025-01-04T13:39:00.136238Z",
          "iopub.status.idle": "2025-01-04T13:39:00.1472Z",
          "shell.execute_reply.started": "2025-01-04T13:39:00.136213Z",
          "shell.execute_reply": "2025-01-04T13:39:00.145849Z"
        },
        "id": "xruA7yEPyiYJ"
      },
      "outputs": [],
      "execution_count": null
    },
    {
      "cell_type": "code",
      "source": [
        "len(test_set)"
      ],
      "metadata": {
        "trusted": true,
        "execution": {
          "iopub.status.busy": "2025-01-04T13:39:43.55696Z",
          "iopub.execute_input": "2025-01-04T13:39:43.55731Z",
          "iopub.status.idle": "2025-01-04T13:39:43.563802Z",
          "shell.execute_reply.started": "2025-01-04T13:39:43.557283Z",
          "shell.execute_reply": "2025-01-04T13:39:43.562471Z"
        },
        "id": "qQadUq87yiYJ"
      },
      "outputs": [],
      "execution_count": null
    },
    {
      "cell_type": "code",
      "source": [
        "from zlib import crc32\n",
        "\n",
        "def is_id_in_test_set(identifier, test_ratio):\n",
        "    return crc32(np.int64(identifier)) < test_ratio * 2**32\n",
        "\n",
        "def split_data_with_id_hash(data, test_ratio, id_column):\n",
        "    ids = data[id_column]\n",
        "    in_test_set = ids.apply(lambda id_: is_id_in_test_set(id_, test_ratio))\n",
        "    return data.loc[~in_test_set], data.loc[in_test_set]"
      ],
      "metadata": {
        "trusted": true,
        "execution": {
          "iopub.status.busy": "2025-01-04T13:47:34.038258Z",
          "iopub.execute_input": "2025-01-04T13:47:34.038673Z",
          "iopub.status.idle": "2025-01-04T13:47:34.045049Z",
          "shell.execute_reply.started": "2025-01-04T13:47:34.038641Z",
          "shell.execute_reply": "2025-01-04T13:47:34.043648Z"
        },
        "id": "ggsBI7Z9yiYK"
      },
      "outputs": [],
      "execution_count": null
    },
    {
      "cell_type": "code",
      "source": [
        "insurance_with_id = insurance.reset_index()  # adds an `index` column\n",
        "train_set, test_set = split_data_with_id_hash(insurance_with_id, 0.2, \"index\")"
      ],
      "metadata": {
        "trusted": true,
        "execution": {
          "iopub.status.busy": "2025-01-04T13:48:52.666666Z",
          "iopub.execute_input": "2025-01-04T13:48:52.667058Z",
          "iopub.status.idle": "2025-01-04T13:48:52.677807Z",
          "shell.execute_reply.started": "2025-01-04T13:48:52.667027Z",
          "shell.execute_reply": "2025-01-04T13:48:52.676581Z"
        },
        "id": "MsPY8nU6yiYK"
      },
      "outputs": [],
      "execution_count": null
    },
    {
      "cell_type": "code",
      "source": [
        "insurance[\"bmi_cat\"] = pd.cut(insurance[\"bmi\"],\n",
        "                               bins=[0, 25, 30, 35, 45, np.inf],\n",
        "                               labels=[1, 2, 3, 4, 5])\n"
      ],
      "metadata": {
        "trusted": true,
        "execution": {
          "iopub.status.busy": "2025-01-04T14:32:44.207875Z",
          "iopub.execute_input": "2025-01-04T14:32:44.208186Z",
          "iopub.status.idle": "2025-01-04T14:32:44.216064Z",
          "shell.execute_reply.started": "2025-01-04T14:32:44.208162Z",
          "shell.execute_reply": "2025-01-04T14:32:44.214419Z"
        },
        "id": "eNTljyp9yiYK"
      },
      "outputs": [],
      "execution_count": null
    },
    {
      "cell_type": "code",
      "source": [
        "insurance[\"bmi_cat\"].value_counts().sort_index().plot.bar(rot=0, grid=True)\n",
        "plt.xlabel(\"bmi\")\n",
        "plt.ylabel(\"number_of_people\")\n",
        "plt.show()"
      ],
      "metadata": {
        "trusted": true,
        "execution": {
          "iopub.status.busy": "2025-01-04T14:32:46.543387Z",
          "iopub.execute_input": "2025-01-04T14:32:46.543772Z",
          "iopub.status.idle": "2025-01-04T14:32:46.782766Z",
          "shell.execute_reply.started": "2025-01-04T14:32:46.543745Z",
          "shell.execute_reply": "2025-01-04T14:32:46.781357Z"
        },
        "id": "LXI7S9sByiYL"
      },
      "outputs": [],
      "execution_count": null
    },
    {
      "cell_type": "code",
      "source": [
        "from sklearn.model_selection import StratifiedShuffleSplit\n",
        "\n",
        "splitter = StratifiedShuffleSplit(n_splits=5, test_size=0.2, random_state=42)\n",
        "strat_splits = []\n",
        "\n",
        "for train_index, test_index in splitter.split(insurance, insurance[\"bmi_cat\"]):\n",
        "    strat_train_set_n = insurance.iloc[train_index]\n",
        "    strat_test_set_n = insurance.iloc[test_index]\n",
        "    strat_splits.append([strat_train_set_n, strat_test_set_n])\n"
      ],
      "metadata": {
        "trusted": true,
        "execution": {
          "iopub.status.busy": "2025-01-04T14:32:50.437483Z",
          "iopub.execute_input": "2025-01-04T14:32:50.437899Z",
          "iopub.status.idle": "2025-01-04T14:32:50.453418Z",
          "shell.execute_reply.started": "2025-01-04T14:32:50.437869Z",
          "shell.execute_reply": "2025-01-04T14:32:50.452148Z"
        },
        "id": "oxDG6Ou1yiYL"
      },
      "outputs": [],
      "execution_count": null
    },
    {
      "cell_type": "code",
      "source": [
        "strat_train_set, strat_test_set = strat_splits[0]"
      ],
      "metadata": {
        "trusted": true,
        "execution": {
          "iopub.status.busy": "2025-01-04T14:32:52.060306Z",
          "iopub.execute_input": "2025-01-04T14:32:52.060687Z",
          "iopub.status.idle": "2025-01-04T14:32:52.065724Z",
          "shell.execute_reply.started": "2025-01-04T14:32:52.060659Z",
          "shell.execute_reply": "2025-01-04T14:32:52.064199Z"
        },
        "id": "2n27I-sryiYL"
      },
      "outputs": [],
      "execution_count": null
    },
    {
      "cell_type": "code",
      "source": [
        "strat_train_set, strat_test_set = train_test_split(\n",
        "    insurance, test_size=0.2, stratify=insurance[\"bmi_cat\"], random_state=42)\n"
      ],
      "metadata": {
        "trusted": true,
        "execution": {
          "iopub.status.busy": "2025-01-04T14:32:52.870555Z",
          "iopub.execute_input": "2025-01-04T14:32:52.87095Z",
          "iopub.status.idle": "2025-01-04T14:32:52.879985Z",
          "shell.execute_reply.started": "2025-01-04T14:32:52.870916Z",
          "shell.execute_reply": "2025-01-04T14:32:52.878877Z"
        },
        "id": "avLPQp_-yiYL"
      },
      "outputs": [],
      "execution_count": null
    },
    {
      "cell_type": "code",
      "source": [
        "strat_test_set[\"bmi_cat\"].value_counts() / len(strat_test_set)"
      ],
      "metadata": {
        "trusted": true,
        "execution": {
          "iopub.status.busy": "2025-01-04T14:32:55.232852Z",
          "iopub.execute_input": "2025-01-04T14:32:55.233192Z",
          "iopub.status.idle": "2025-01-04T14:32:55.242407Z",
          "shell.execute_reply.started": "2025-01-04T14:32:55.233165Z",
          "shell.execute_reply": "2025-01-04T14:32:55.241436Z"
        },
        "id": "_0nOCu80yiYL"
      },
      "outputs": [],
      "execution_count": null
    },
    {
      "cell_type": "code",
      "source": [
        "# extra code – computes the data for Figure 2–10\n",
        "\n",
        "def bmi_cat_proportions(data):\n",
        "    return data[\"bmi_cat\"].value_counts() / len(data)\n",
        "\n",
        "train_set, test_set = train_test_split(insurance, test_size=0.2, random_state=42)\n",
        "\n",
        "compare_props = pd.DataFrame({\n",
        "    \"Overall %\": bmi_cat_proportions(insurance),\n",
        "    \"Stratified %\": bmi_cat_proportions(strat_test_set),\n",
        "    \"Random %\": bmi_cat_proportions(test_set),\n",
        "}).sort_index()\n",
        "compare_props.index.name = \"BMI Category\"\n",
        "compare_props[\"Strat. Error %\"] = (compare_props[\"Stratified %\"] /\n",
        "                                   compare_props[\"Overall %\"] - 1)\n",
        "compare_props[\"Rand. Error %\"] = (compare_props[\"Random %\"] /\n",
        "                                  compare_props[\"Overall %\"] - 1)\n",
        "(compare_props * 100).round(2)"
      ],
      "metadata": {
        "trusted": true,
        "execution": {
          "iopub.status.busy": "2025-01-04T14:38:14.615062Z",
          "iopub.execute_input": "2025-01-04T14:38:14.615444Z",
          "iopub.status.idle": "2025-01-04T14:38:14.680569Z",
          "shell.execute_reply.started": "2025-01-04T14:38:14.615413Z",
          "shell.execute_reply": "2025-01-04T14:38:14.679465Z"
        },
        "id": "hMqXOvsYyiYM"
      },
      "outputs": [],
      "execution_count": null
    },
    {
      "cell_type": "code",
      "source": [
        "for set_ in (strat_train_set, strat_test_set):\n",
        "    set_.drop(\"bmi_cat\", axis=1, inplace=True)"
      ],
      "metadata": {
        "trusted": true,
        "execution": {
          "iopub.status.busy": "2025-01-04T14:38:36.170982Z",
          "iopub.execute_input": "2025-01-04T14:38:36.171523Z",
          "iopub.status.idle": "2025-01-04T14:38:36.18105Z",
          "shell.execute_reply.started": "2025-01-04T14:38:36.171466Z",
          "shell.execute_reply": "2025-01-04T14:38:36.179671Z"
        },
        "id": "RdgOTxK1yiYM"
      },
      "outputs": [],
      "execution_count": null
    },
    {
      "cell_type": "code",
      "source": [
        "insurance = strat_train_set.copy()"
      ],
      "metadata": {
        "trusted": true,
        "execution": {
          "iopub.status.busy": "2025-01-04T14:38:56.297897Z",
          "iopub.execute_input": "2025-01-04T14:38:56.298418Z",
          "iopub.status.idle": "2025-01-04T14:38:56.305816Z",
          "shell.execute_reply.started": "2025-01-04T14:38:56.298374Z",
          "shell.execute_reply": "2025-01-04T14:38:56.304216Z"
        },
        "id": "lDN1l8O-yiYM"
      },
      "outputs": [],
      "execution_count": null
    },
    {
      "cell_type": "code",
      "source": [
        "insurance.plot(kind=\"scatter\", x=\"bmi\", y=\"charges\", grid=True)\n",
        "plt.show()"
      ],
      "metadata": {
        "trusted": true,
        "execution": {
          "iopub.status.busy": "2025-01-04T14:42:13.349479Z",
          "iopub.execute_input": "2025-01-04T14:42:13.349935Z",
          "iopub.status.idle": "2025-01-04T14:42:13.559458Z",
          "shell.execute_reply.started": "2025-01-04T14:42:13.349905Z",
          "shell.execute_reply": "2025-01-04T14:42:13.558343Z"
        },
        "id": "iROf3j2zyiYN"
      },
      "outputs": [],
      "execution_count": null
    },
    {
      "cell_type": "code",
      "source": [
        "insurance.plot(kind=\"scatter\", x=\"age\", y=\"charges\", grid=True)\n",
        "plt.show()"
      ],
      "metadata": {
        "trusted": true,
        "execution": {
          "iopub.status.busy": "2025-01-04T14:42:39.793358Z",
          "iopub.execute_input": "2025-01-04T14:42:39.793785Z",
          "iopub.status.idle": "2025-01-04T14:42:40.039219Z",
          "shell.execute_reply.started": "2025-01-04T14:42:39.793753Z",
          "shell.execute_reply": "2025-01-04T14:42:40.038164Z"
        },
        "id": "-sxf5oVUyiYN"
      },
      "outputs": [],
      "execution_count": null
    },
    {
      "cell_type": "code",
      "source": [],
      "metadata": {
        "trusted": true,
        "id": "K1UmtVLDyiYN"
      },
      "outputs": [],
      "execution_count": null
    }
  ]
}